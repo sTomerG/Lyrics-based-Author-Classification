{
 "cells": [
  {
   "cell_type": "code",
   "execution_count": 2,
   "metadata": {},
   "outputs": [
    {
     "ename": "ModuleNotFoundError",
     "evalue": "No module named 'pyphen'",
     "output_type": "error",
     "traceback": [
      "\u001b[0;31m---------------------------------------------------------------------------\u001b[0m",
      "\u001b[0;31mModuleNotFoundError\u001b[0m                       Traceback (most recent call last)",
      "\u001b[0;32m<ipython-input-2-cb732398ea87>\u001b[0m in \u001b[0;36m<module>\u001b[0;34m\u001b[0m\n\u001b[1;32m     10\u001b[0m \u001b[0;32mimport\u001b[0m \u001b[0men_core_web_lg\u001b[0m\u001b[0;34m\u001b[0m\u001b[0;34m\u001b[0m\u001b[0m\n\u001b[1;32m     11\u001b[0m \u001b[0;32mimport\u001b[0m \u001b[0minflect\u001b[0m\u001b[0;34m\u001b[0m\u001b[0;34m\u001b[0m\u001b[0m\n\u001b[0;32m---> 12\u001b[0;31m \u001b[0;32mimport\u001b[0m \u001b[0mpyphen\u001b[0m\u001b[0;34m\u001b[0m\u001b[0;34m\u001b[0m\u001b[0m\n\u001b[0m\u001b[1;32m     13\u001b[0m \u001b[0;32mimport\u001b[0m \u001b[0mpickle\u001b[0m\u001b[0;34m\u001b[0m\u001b[0;34m\u001b[0m\u001b[0m\n\u001b[1;32m     14\u001b[0m \u001b[0;32mimport\u001b[0m \u001b[0mstring\u001b[0m\u001b[0;34m\u001b[0m\u001b[0;34m\u001b[0m\u001b[0m\n",
      "\u001b[0;31mModuleNotFoundError\u001b[0m: No module named 'pyphen'"
     ]
    }
   ],
   "source": [
    "from collections import Counter, defaultdict\n",
    "from itertools import combinations\n",
    "from spacy import displacy\n",
    "\n",
    "import seaborn as sn\n",
    "import pandas as pd\n",
    "import numpy as np\n",
    "import regex as re\n",
    "\n",
    "import en_core_web_lg\n",
    "import inflect\n",
    "import pyphen\n",
    "import pickle\n",
    "import string\n",
    "import random\n",
    "import spacy\n",
    "import nltk\n",
    "import sys\n",
    "import csv\n",
    "import os\n"
   ]
  },
  {
   "cell_type": "code",
   "execution_count": null,
   "metadata": {},
   "outputs": [],
   "source": [
    "def get_nicknames():\n",
    "    \n",
    "    \"\"\" Returns a dictionairy of nicknames per artist, based on Wikipedia \"\"\"\n",
    "\n",
    "    return {\"JAY-Z\":[\"Jay-Z\",\"Jay\",\"Hova\",\"HOV\",\"hov\",\"Hov\",\"Jigga\",\"Shawn Carter\",\"Shawn\",\"Carter\"],\n",
    "    \"Eminem\": [\"Marshall Mathers\",\"Marshall\",\"Mathers\",\"Slim Shady\",\"Slim\",\"Shady\"],\n",
    "    \"Future\": [\"Nayvadius Wilburn\",\"Neyvadius\",\"Wiburn\",\"Meathead\",\"Caeser Lee\",\"Ceaser\",\"Lee\"],\n",
    "    \"Ice Cube\": [\"Ice\",\"Cube\",\"O'Shea Jackson\",\"O'Shea\",\"Jackson\"],\n",
    "    \"Lil’ Kim\": [\"Lil’\",\"Kim\",\"Kimberley Jones\",\"Kimberley\",\"Jones\",\"Queen Bee\",\"Queen\",\"Bee\", \"Lil'\",\"Lil' Kim\",\"own_nameme\", \"own_name own_name\"],\n",
    "    \"Machine Gun Kelly\": [\"Machine Gun\",\"Gun Kelly\",\"Kelly\",\"Kells\",\"Richard Baker\",\"Richard\",\"Baker\"],\n",
    "    \"Nas\": [\"Nas\",\"own_namety\",\"Escobar\", \"Jones\"],\n",
    "    \"Nicki Minaj\": [\"Nicki\",\"Minaj\",\"Onika Maraj\",\"Onika\",\"Maraj\"],\n",
    "    \"50 Cent\": [\"fifty Cent\",\"fifty\",\"fiftycent\",\"50\",\"Cent\",\"Ferrari F-50\",\"Ferrari\",\"F-50\",\"Curtis Jackson\",\"Curtis\",\"Jackson\"],\n",
    "    \"2Pac\": [\"twopac\",\"Tupac Shakur\",\"Tupac\",\"Shakur\",\"Makaveli\",\"MC New York\", \"Pac\"],\n",
    "    \"Lil Wayne\": [\"Wayne\",\"Tunechi\",\"Weezy F. Baby\", \"Weezy\",\"President Carter\",\"Dwayne Carter\",\"Dwayne\",\"Carter\"],\n",
    "    \"Snoop Dogg\": [\"Snoop\",\"Dogg\",\"DJ Snoopadelic\",\"Snoopadelic\",\"Niggarachi\",\"Snoopzilla\",\"Nemo Hoes\",\"Nemo\"],\n",
    "    \"Damian Marley\": [\"Damian Marley\",\"Damian\",\"Robert\",\"Nesta\",\"Jr. Gong\",\"Junior Gong\",\"Gong\",\"Junior\",\"Jr.\"],\n",
    "    \"Kanye West\": [\"Kanye West\",\"Kanye\",\"West\",\"Yeezy\",\"\\bYe\\b\", \"Omari\"]\n",
    "    }"
   ]
  },
  {
   "cell_type": "markdown",
   "metadata": {},
   "source": [
    "In the following cell functions are implemented to create (bleached) representations."
   ]
  },
  {
   "cell_type": "code",
   "execution_count": 7,
   "metadata": {},
   "outputs": [],
   "source": [
    "def create_length_representation(lyrics):\n",
    "    \n",
    "    \"\"\" Converts words to their length, e.g.: Hello PC --> 05 02 \"\"\"\n",
    "    \n",
    "    length_repr = ''\n",
    "    for sentence in lyrics.split('\\n'):\n",
    "        sentence_repr = ''\n",
    "        for word in sentence.split():\n",
    "            sentence_repr += '0' + str(len(word)) + ' '\n",
    "        length_repr += sentence_repr.rstrip() + '\\n' # add newline to preserve line structure\n",
    "    \n",
    "    return length_repr.rstrip()\n",
    "\n",
    "def create_punctC_representation(lyrics):\n",
    "    \n",
    "    \"\"\" Creates a representation in which punctuation is preserved \"\"\"\n",
    "    \n",
    "    punctC_repr = \"\"\n",
    "    for sentence in lyrics.split('\\n'):\n",
    "        sentence_repr = ''\n",
    "        for word in sentence.split():\n",
    "            punctC = \"\"\n",
    "            for char in word:\n",
    "                if char not in string.punctuation:\n",
    "                    punctC += 'W'\n",
    "                else:\n",
    "                    punctC += char\n",
    "            punctC = re.sub(\"W+\", \"W\", punctC) + ' '\n",
    "            sentence_repr += punctC\n",
    "        punctC_repr += sentence_repr.rstrip() + '\\n'\n",
    "        \n",
    "    return punctC_repr.rstrip()\n",
    "\n",
    "def create_shape_representation(lyrics):\n",
    "    \n",
    "    \"\"\" Creates a representation which is based on capitality of letters, and digits\"\"\"\n",
    "    \n",
    "    shape_repr = ''\n",
    "    for sentence in lyrics.split('\\n'):\n",
    "        sentence_repr = ''\n",
    "        for word in sentence.split():\n",
    "            shape = ''\n",
    "            for char in word:\n",
    "                if char.isupper():\n",
    "                    shape += 'U'\n",
    "                elif char.islower():\n",
    "                    shape += 'L'\n",
    "                elif char.isdigit():\n",
    "                    shape += 'D'\n",
    "                else:\n",
    "                    shape += 'X'\n",
    "            for letter in 'ULDX':\n",
    "                shape = diminish_duplicate_letters(shape,letter)\n",
    "            sentence_repr += shape + ' '\n",
    "        shape_repr += sentence_repr.rstrip() + '\\n'\n",
    "    return shape_repr.rstrip()\n",
    "                \n",
    "def diminish_duplicate_letters(chars,char): # converts a 3 or more idental consecutive letters to 2\n",
    "    return re.sub(char +\"{3,}\",char+char,chars)\n",
    "\n",
    "def create_vowel_representation(lyrics):\n",
    "    \n",
    "    \"\"\" Create a representation based on vowels \"\"\"\n",
    "    \n",
    "    vowel_representations = ''\n",
    "    for sentence in lyrics.split('\\n'):\n",
    "        sentence_repr = ''\n",
    "        for word in sentence.split():\n",
    "            vowel_repr = ''\n",
    "            for char in word:\n",
    "                if char.lower() in 'aeiou':\n",
    "                    vowel_repr += 'V'\n",
    "                elif char.lower() in 'bcdfghjklmnpqrstvwxyz':\n",
    "                    vowel_repr += 'C'\n",
    "                else:\n",
    "                    vowel_repr += 'O'\n",
    "            sentence_repr += vowel_repr + ' '\n",
    "        vowel_representations += sentence_repr.rstrip() + '\\n'\n",
    "    return vowel_representations.rstrip()\n",
    "\n",
    "def create_alliteration_representation(lyrics):\n",
    "    first_letters = [word[0] for word in lyrics.split()]\n",
    "    return \"\".join(first_letters)  \n",
    "\n",
    "def create_syllable_representation(lyrics):\n",
    "    lyrics.translate(str.maketrans('', '', string.punctuation)) # source: https://stackoverflow.com/questions/265960/best-way-to-strip-punctuation-from-a-string\n",
    "    to_syllables = pyphen.Pyphen(lang='en')\n",
    "    syllable_representation = ''\n",
    "    for sentence in lyrics.split('\\n'):\n",
    "        words = sentence.split()\n",
    "        for word in words:\n",
    "            word = re.sub(r'([a-z])\\1+', r'\\1', word) # remove repeating consecutive letters as the it confuses the syllable generator\n",
    "            syllables = to_syllables.inserted(word)\n",
    "            syllable_representation += re.sub(\"\\-\", \" \", syllables) + ' '\n",
    "        syllable_representation += '\\n'\n",
    "    return syllable_representation.rstrip()\n",
    "\n",
    "def create_NER_representation(lyrics, nlp):\n",
    "    \n",
    "    \"\"\" Creates a representation based on Named Entity Recognition\"\"\"\n",
    "    \n",
    "    NER_repr = ''\n",
    "    for sentence in lyrics.split('\\n'):\n",
    "        NER_repr += ' '.join([X.label_ for X in nlp(sentence).ents]) + '\\n'\n",
    "    if NER_repr.strip() == '':\n",
    "        NER_repr = 'None'\n",
    "    return NER_repr.rstrip()\n",
    "\n",
    "def create_POS_representation(lyrics):\n",
    "    \n",
    "    \"\"\" Creates a representation based on POS tagging \"\"\"\n",
    "    \n",
    "    tokens = nltk.word_tokenize(lyrics)\n",
    "    pos_tags = [output[1] for output in nltk.pos_tag(tokens)]\n",
    "    return ' '.join(pos_tags)"
   ]
  },
  {
   "cell_type": "code",
   "execution_count": 8,
   "metadata": {},
   "outputs": [
    {
     "data": {
      "text/plain": [
       "'Ha lo ik ven ... Tomem \\nik houd van julie'"
      ]
     },
     "execution_count": 8,
     "metadata": {},
     "output_type": "execute_result"
    }
   ],
   "source": [
    "create_syllable_representation(\"Hallo ik ven ... Tommem\\nik houd van jullie\")"
   ]
  },
  {
   "cell_type": "code",
   "execution_count": 9,
   "metadata": {},
   "outputs": [],
   "source": [
    "def number_to_word(number): # converts a number to its word representation, e.g. 50 to fifty\n",
    "    return inflect.engine().number_to_words(number.group(1))"
   ]
  },
  {
   "cell_type": "code",
   "execution_count": 10,
   "metadata": {},
   "outputs": [
    {
     "data": {
      "text/plain": [
       "'PRP VBP VBN NNS'"
      ]
     },
     "execution_count": 10,
     "metadata": {},
     "output_type": "execute_result"
    }
   ],
   "source": [
    "create_POS_representation('I have .50 euros')"
   ]
  },
  {
   "cell_type": "code",
   "execution_count": 11,
   "metadata": {},
   "outputs": [],
   "source": [
    "def preprocess_lyrics(x,y):\n",
    "    \n",
    "    \"\"\" Returns a preprocessed x \"\"\"\n",
    "    \n",
    "    inflect_engine = inflect.engine()\n",
    "    nicknames = get_nicknames()\n",
    "    filtered_x, length_repr, punctC_repr, shape_repr, vowel_repr, alliteration_repr, ner_repr, pos_repr = [],[],[],[],[],[],[],[]\n",
    "    syllable_repr = []\n",
    "    print(\"Total instances to preprocess: {}\".format(len(x)))\n",
    "    i = 0 # to track where the program is\n",
    "    nlp = en_core_web_lg.load()\n",
    "    for song,artist in zip(x,y):\n",
    "        print(i,end=' ') # to track where the program is while running\n",
    "        song = re.sub(\"\\[.*\\]\", \"\", song) # removes info like [Intro: Eminem]\n",
    "        song = re.sub(\"\\*.*?\\*\", \"\", song) # text between *..* usually announces something\n",
    "        song = re.sub(\"\\n+\",\"\\n\", song) # replaces multiple newlines by a single newline\n",
    "        song = re.sub(\"\\.([1-9])\",r'\\1',song) # convert .9 to 9\n",
    "        pos_repr.append(create_POS_representation(song))\n",
    "        song = re.sub(\"([1-9]+)\",number_to_word,song) # convert numbers to words e.g. 50 to fifty\n",
    "        alliteration_repr.append(create_alliteration_representation(song))\n",
    "        song = re.sub(artist,\"own_name\",song) # replaces artists' own name with 'own_name'\n",
    "        song = re.sub(artist.lower(),\"own_name\",song)\n",
    "        song = re.sub(artist.upper(),\"own_name\",song)\n",
    "        for nickname in nicknames[artist]: # replaces artists' nicknames with 'own_name'\n",
    "            song = re.sub(nickname,\"own_name\",song)\n",
    "            song = re.sub(nickname.lower(),\"own_name\",song)\n",
    "            song = re.sub(nickname.upper(),\"own_name\",song)\n",
    "        syllable_repr.append(create_syllable_representation(song))\n",
    "        length_repr.append(create_length_representation(song))\n",
    "        punctC_repr.append(create_punctC_representation(song))\n",
    "        shape_repr.append(create_shape_representation(song))\n",
    "        vowel_repr.append(create_vowel_representation(song))\n",
    "        \n",
    "        song = re.sub(\" [\\'\\\"\\*\\’\\:\\;\\(\\)]\",\" \",song) # removes specific punctuation after a space\n",
    "        song = re.sub(\"[\\'\\\"\\*\\’\\:\\;\\(\\)]([ \\n])\",r'\\1',song) # removes specific punctuation before a space\n",
    "        song = re.sub(\"([\\.\\,\\!\\?]) \", r' \\1 ', song) # adds space between word and punct if last character of word is punct\n",
    "        song = re.sub(\"([\\.\\,\\!\\?])\\n\", r' \\1\\n', song) # adds space between word and punct if last character of word is punct\n",
    "        filtered_x.append(song)\n",
    "        song = re.sub(\"own_name\",\"John\", song) # convert own_name to John for better NER_tagging\n",
    "        ner_repr.append(create_NER_representation(song,nlp))\n",
    "        \n",
    "        i += 1 # to track where to program is while running\n",
    "        \n",
    "    return filtered_x, length_repr, punctC_repr, shape_repr, vowel_repr, alliteration_repr, ner_repr, pos_repr, syllable_repr"
   ]
  },
  {
   "cell_type": "code",
   "execution_count": 12,
   "metadata": {},
   "outputs": [],
   "source": [
    "def import_data(path):\n",
    "    \n",
    "    \"\"\" Imports pickle files, and returns a shuffled x, and the according ys \"\"\"\n",
    "    \n",
    "    artist_dict_list = []\n",
    "    for filename in os.listdir(path):\n",
    "        if str(filename)[-2:] == '.p':\n",
    "            with open(path+filename, \"rb\") as f:\n",
    "                artist_dict = pickle.load(f)\n",
    "            artist_dict_list.append(artist_dict)\n",
    "            \n",
    "    # create a list of tuples with (lyrics, artist)\n",
    "    x,y = [],[]\n",
    "    for artist_dict in artist_dict_list:\n",
    "        for song_title, song_info in artist_dict.items():\n",
    "            #c = Counter(y)   # uncomment to set limit\n",
    "                #if c[song_info[0]] < 99:    # uncomment to set limit\n",
    "            x.append(song_info[3]) # song_info[3] = lyrics\n",
    "            y.append(song_info[0]) # song_info[0] = artist\n",
    "            \n",
    "    x, y = shuffe_x_and_y(x,y)\n",
    "    return x,y\n"
   ]
  },
  {
   "cell_type": "code",
   "execution_count": 13,
   "metadata": {},
   "outputs": [],
   "source": [
    "def convert_to_verse_classification(x,y):\n",
    "    \n",
    "    \"\"\" Converts instances of songs to instances of verses \"\"\"\n",
    "    \n",
    "    nicknames = get_nicknames()\n",
    "    new_x, new_y = [],[]\n",
    "    for lyrics,y in zip(x,y):\n",
    "        lyrics = re.sub(\"\\n\",\"___\",lyrics) # replace by ___ to preserse the location of the newline\n",
    "        verses = re.findall(\"\\[.+?\\].+?\\[\",lyrics,overlapped=True) # [...] indicates the start of a new verse\n",
    "        verses = [re.sub(\"___\",\"\\n\",verse) for verse in verses] # reinsert the newlines\n",
    "        verses = [re.sub(\"\\n+\\[\",\"\",verse) for verse in verses] # remove a remaining [\n",
    "        for verse in verses:\n",
    "            verse = re.sub(\"\\[.+?\\]\",\"\",verse) # remove the [...]\n",
    "            if len(verse.split()) >= 20:\n",
    "                new_y.append(y)\n",
    "                new_x.append(verse)\n",
    "    new_x, new_y = remove_duplicate_verses(new_x,new_y)\n",
    "    return new_x, new_y"
   ]
  },
  {
   "cell_type": "code",
   "execution_count": 14,
   "metadata": {},
   "outputs": [],
   "source": [
    "def convert_to_verse_classification_duo_artist(x,y):\n",
    "    \n",
    "    \"\"\" Convert to verse classification in a duo artist songs in which artist is set as e.g.: Jay-Z & Kanye West\"\"\"\n",
    "    \n",
    "    nicknames = get_nicknames()\n",
    "    artist1, artist2 = y[0].split('&')[0].strip(), y[0].split('&')[1].strip()\n",
    "    new_x, new_y = [],[]\n",
    "    for lyrics,y in zip(x,y):\n",
    "        lyrics = re.sub(\"\\n\",\"___\",lyrics)\n",
    "        verses = re.findall(\"\\[.+?\\].+?\\[\",lyrics,overlapped=True)\n",
    "        verses = [re.sub(\"___\",\"\\n\",verse) for verse in verses]\n",
    "        verses = [re.sub(\"\\n+\\[\",\"\",verse) for verse in verses]\n",
    "        for verse in verses:\n",
    "            y_verse = \"OTHER ARTIST\" # in case more artists particiate than artist1 and artist2\n",
    "            header = re.findall(\"\\[.+?\\]\",verse)[0].lower() # header of a verse, as in [..]\n",
    "            verse = re.sub(\"\\[.+?\\]\",\"\",verse)\n",
    "            for name in nicknames[artist1]:\n",
    "                if name.lower() in header: # set verse to artist1\n",
    "                    y_verse = artist1\n",
    "            for name in nicknames[artist2]: # set verse to artist2 of its not set to artist 1 or combined verse yet\n",
    "                if name.lower() in header and y_verse != artist1 and y_verse != 'combined verse':\n",
    "                    y_verse = artist2\n",
    "                if name.lower() in header and y_verse == artist1: # set verse to combined if both artists are mentioned in the header\n",
    "                    y_verse = 'combined verse'\n",
    "            if y_verse == artist1 or y_verse == artist2:\n",
    "                if len(verse.split()) >= 20:\n",
    "                    new_y.append(y_verse)\n",
    "                    new_x.append(verse)\n",
    "    new_x, new_y = remove_duplicate_verses(new_x,new_y)\n",
    "    return new_x, new_y"
   ]
  },
  {
   "cell_type": "code",
   "execution_count": 15,
   "metadata": {},
   "outputs": [],
   "source": [
    "def remove_duplicate_verses(x,y):\n",
    "    new_x, new_y = [],[]\n",
    "    while len(x) > 0:\n",
    "        tempx = x.pop(0)\n",
    "        tempy = y.pop(0)\n",
    "        if tempx not in x:\n",
    "            new_x.append(tempx)\n",
    "            new_y.append(tempy)\n",
    "    return new_x, new_y"
   ]
  },
  {
   "cell_type": "code",
   "execution_count": 16,
   "metadata": {},
   "outputs": [],
   "source": [
    "def shuffe_x_and_y(x,y):\n",
    "    \n",
    "    \"\"\" Returns a shuffled x and y \"\"\"\n",
    "    \n",
    "    x_and_y = [(x,y) for x,y in zip(x,y)] # combine x and y to keep the y related to the right x\n",
    "    random.seed(30)\n",
    "    random.shuffle(x_and_y)\n",
    "    new_x, new_y = [], []\n",
    "    for x,y in x_and_y:\n",
    "        new_x.append(x)\n",
    "        new_y.append(y)\n",
    "    return new_x, new_y"
   ]
  },
  {
   "cell_type": "code",
   "execution_count": 17,
   "metadata": {},
   "outputs": [],
   "source": [
    "def get_word_count(x):\n",
    "    x = [re.sub(\"['’]\",\" \",lyrics) for lyrics in x] # to convert e.g. I'm into I m\n",
    "    x = [lyrics.translate(str.maketrans('','',string.punctuation)) for lyrics in x] # removes punctuation\n",
    "    return [len(lyrics.split()) for lyrics in x]\n",
    "\n",
    "def get_sentence_count(x):\n",
    "    return [len(lyrics.split('\\n')) for lyrics in x]\n",
    "\n",
    "def get_avg_word_length(x):\n",
    "    x = [lyrics.translate(str.maketrans('','',string.punctuation)) for lyrics in x] # removes punctuation\n",
    "    avg_word_lengths = []\n",
    "    for lyrics in x:\n",
    "        word_lengths = [len(word) for word in lyrics.split()]\n",
    "        avg_word_lengths.append(round(sum(word_lengths) / len(lyrics.split()),2))\n",
    "    return avg_word_lengths\n",
    "    \n",
    "def get_exclam_mark_count(x):\n",
    "    return [lyrics.count('!') for lyrics in x]\n",
    "\n",
    "def get_question_mark_count(x):\n",
    "    return [lyrics.count('?') for lyrics in x]\n",
    "\n",
    "def get_comma_count(x):\n",
    "    return [lyrics.count(',')for lyrics in x]\n",
    "\n",
    "def get_comma_ratio(x):\n",
    "    return [round(lyrics.count(',') / len(lyrics.split('\\n')),2) for lyrics in x]\n",
    "\n",
    "def get_unique_word_ratio(x):\n",
    "    x = [re.sub(\"['’]\",\" \",lyrics) for lyrics in x] # to convert e.g. I'm into I m\n",
    "    x = [re.sub(\"own_name\",\"\",lyrics) for lyrics in x] # remove own name tags\n",
    "    x = [lyrics.translate(str.maketrans('','',string.punctuation)) for lyrics in x] # removes punctuation\n",
    "    return [round(len(set(lyrics.split()))/len(lyrics.split()),2) for lyrics in x]\n",
    "\n",
    "\n",
    "def get_repeated_sentence_ratios(x):\n",
    "    repeated_sentence_count_ratios = [] # sum of sentences that are repeated / amount of sentences\n",
    "    repeated_sentence_ratios = [] # sum of different sentences that are repeated / amount of different sentences\n",
    "    for lyrics in x:\n",
    "        sentence_counter = Counter(lyrics.split('\\n'))\n",
    "        total_sentences = len(lyrics.split('\\n'))\n",
    "        repeated_sentences_count = 0\n",
    "        repeated_sentences = 0\n",
    "        for sentence, instances in sentence_counter.items():\n",
    "            if instances > 1:\n",
    "                repeated_sentences_count += instances\n",
    "                repeated_sentences += 1\n",
    "        repeated_sentence_count_ratios.append(round(repeated_sentences_count/total_sentences,2))\n",
    "        repeated_sentence_ratios.append((round(repeated_sentences/len(sentence_counter),2)))\n",
    "    return repeated_sentence_count_ratios, repeated_sentence_ratios\n",
    "        "
   ]
  },
  {
   "cell_type": "code",
   "execution_count": null,
   "metadata": {},
   "outputs": [],
   "source": [
    "def main():\n",
    "    path = \"../lyrics/afro_males/\"\n",
    "    path = \"../lyrics/diverse/\"\n",
    "    path = \"../lyrics/verse_classification/\"\n",
    "    filename = \"afro_male_artist_even\"\n",
    "    filename = \"vc_jayz_kanye\"\n",
    "    filename = \"vc_jayz_kanye_songs\"\n",
    "    #filename = \"diverse_artist\"\n",
    "    settype = \"_train.csv\"\n",
    "    #settype = \"_test.csv\"\n",
    "    print(path+filename+settype)\n",
    "    x, y = import_data(path)\n",
    "    print(Counter(y))\n",
    "    x, y = convert_to_verse_classification(x,y)\n",
    "    #x, y = convert_to_verse_classification_duo_artist(x,y)\n",
    "    x, length_repr, punctC_repr, shape_repr, vowel_repr, alliteration_repr, ner_repr, pos_repr, syllable_repr = preprocess_lyrics(x,y)\n",
    "    c = Counter(y).most_common()\n",
    "    #print(c[-1][1])\n",
    "    word_count = get_word_count(x)\n",
    "    sentence_count = get_sentence_count(x)\n",
    "    avg_word_length = get_avg_word_length(x)\n",
    "    exclam_mark_count = get_exclam_mark_count(x)\n",
    "    comma_count = get_comma_count(x)\n",
    "    comma_ratio = get_comma_ratio(x)\n",
    "    unique_word_ratio = get_unique_word_ratio(x)\n",
    "    question_mark_count = get_question_mark_count(x)\n",
    "    repeated_sentence_count_ratio, repeated_sentence_ratio = get_repeated_sentence_ratios(x)\n",
    "    \n",
    "    with open(path+filename+settype, mode='w') as csv_file:\n",
    "        fieldnames = ['lyrics','artist','word_count','sentence_count','!_count','?_count',',_count',\n",
    "                      'avg_word_length', ',_ratio', 'uniq_word_ratio','rep_sent_count_ratio','rep_sent_ratio',\n",
    "                     'length_repr','punctC_repr','shape_repr','vowel_repr','alliteration_repr','ner_repr',\n",
    "                      'pos_repr','syllable_repr']\n",
    "        writer = csv.DictWriter(csv_file, fieldnames=fieldnames)\n",
    "        writer.writeheader()\n",
    "        print(\"yeah\")\n",
    "        for i in range(len(x)):\n",
    "            writer.writerow({'lyrics': x[i],\\\n",
    "                             'artist': y[i],\\\n",
    "                             'word_count':word_count[i],\\\n",
    "                             'sentence_count':sentence_count[i],\\\n",
    "                             '!_count':exclam_mark_count[i],\\\n",
    "                             '?_count':question_mark_count[i],\\\n",
    "                             ',_count':comma_count[i],\\\n",
    "                             'avg_word_length':avg_word_length[i],\\\n",
    "                             ',_ratio':comma_ratio[i],\\\n",
    "                            'uniq_word_ratio':unique_word_ratio[i],\\\n",
    "                             'rep_sent_count_ratio':repeated_sentence_count_ratio[i],\\\n",
    "                             'rep_sent_ratio':repeated_sentence_ratio[i],\\\n",
    "                            'length_repr':length_repr[i],\\\n",
    "                            'punctC_repr':punctC_repr[i],\\\n",
    "                            'shape_repr':shape_repr[i],\\\n",
    "                            'vowel_repr':vowel_repr[i],\\\n",
    "                           'alliteration_repr':alliteration_repr[i],\\\n",
    "                             'ner_repr':ner_repr[i],\n",
    "                            'pos_repr':pos_repr[i],\n",
    "                            'syllable_repr'})\n",
    "\n",
    "    \n",
    "    \"\"\"i = 0\n",
    "    \n",
    "    print(unique_word_ratio[i])\n",
    "    print(exclam_mark_count[i])\n",
    "    print(question_mark_count[i])\n",
    "    print(repeated_sentence_count_ratio[i])\n",
    "    print(repeated_sentence_ratio[i])\n",
    "    print(x[i])\"\"\"\n",
    "#main()"
   ]
  },
  {
   "cell_type": "markdown",
   "metadata": {},
   "source": [
    "Select import path and output filename"
   ]
  },
  {
   "cell_type": "code",
   "execution_count": null,
   "metadata": {},
   "outputs": [],
   "source": [
    "outpath = \"../lyrics/afro_males/\"\n",
    "#path = \"../lyrics/diverse/\"\n",
    "outpath = \"../lyrics/verse_classification/\"\n",
    "#filename = \"afro_male_artist_even\"\n",
    "filename = \"vc_jayz_kanye\"\n",
    "filename = \"vc_jayz_kanye_songs\"\n",
    "#filename = \"vc_marley_nas\"\n",
    "#filename = \"vc_marley_nas_songs\"\n",
    "#filename = \"diverse_artist_verses\"\n",
    "settype = \"_train.csv\"\n",
    "#settype = \"_test.csv\"\n",
    "print(path+filename+settype)"
   ]
  },
  {
   "cell_type": "code",
   "execution_count": 27,
   "metadata": {},
   "outputs": [],
   "source": [
    "outpath = \"../lyrics/verse_classification/\"\n",
    "inpath = \"../lyrics/jayz&kanye/\"\n",
    "filename = \"vc_jayz_kanye_verses\"\n",
    "#filename = \"vc_jayz_kanye_songs\"\n",
    "settype = \"_train.csv\""
   ]
  },
  {
   "cell_type": "code",
   "execution_count": 47,
   "metadata": {},
   "outputs": [],
   "source": [
    "outpath = \"../lyrics/verse_classification/\"\n",
    "inpath = \"../lyrics/marley&nas/\"\n",
    "filename = \"vc_marley_nas_verses\"\n",
    "#filename = \"vc_marley_nas_songs\"\n",
    "settype = \"_train.csv\""
   ]
  },
  {
   "cell_type": "code",
   "execution_count": 34,
   "metadata": {},
   "outputs": [],
   "source": [
    "outpath = \"../lyrics/verse_classification/\"\n",
    "inpath = \"../lyrics/jayz&kanye_combined/\"\n",
    "filename = \"vc_jayz_kanye_verses\"\n",
    "settype = \"_test.csv\""
   ]
  },
  {
   "cell_type": "code",
   "execution_count": 54,
   "metadata": {},
   "outputs": [],
   "source": [
    "outpath = \"../lyrics/verse_classification/\"\n",
    "inpath = \"../lyrics/marley&nas_combined/\"\n",
    "filename = \"vc_marley_nas_verses\"\n",
    "settype = \"_test.csv\""
   ]
  },
  {
   "cell_type": "code",
   "execution_count": 55,
   "metadata": {},
   "outputs": [
    {
     "name": "stdout",
     "output_type": "stream",
     "text": [
      "../lyrics/marley&nas_combined/\n",
      "../lyrics/verse_classification/vc_marley_nas_verses_test.csv\n"
     ]
    }
   ],
   "source": [
    "print(inpath)\n",
    "print(outpath+filename+settype)"
   ]
  },
  {
   "cell_type": "code",
   "execution_count": 56,
   "metadata": {},
   "outputs": [
    {
     "data": {
      "text/plain": [
       "Counter({'Damian Marley & Nas': 14})"
      ]
     },
     "execution_count": 56,
     "metadata": {},
     "output_type": "execute_result"
    }
   ],
   "source": [
    "x, y = import_data(inpath)\n",
    "Counter(y)"
   ]
  },
  {
   "cell_type": "code",
   "execution_count": 50,
   "metadata": {},
   "outputs": [
    {
     "data": {
      "text/plain": [
       "Counter({'Nas': 598, 'Damian Marley': 166})"
      ]
     },
     "execution_count": 50,
     "metadata": {},
     "output_type": "execute_result"
    }
   ],
   "source": [
    "x, y = convert_to_verse_classification(x,y)\n",
    "Counter(y)"
   ]
  },
  {
   "cell_type": "markdown",
   "metadata": {},
   "source": [
    "Get represtations of the lyrics and the preprocessed lyrics itself"
   ]
  },
  {
   "cell_type": "code",
   "execution_count": 57,
   "metadata": {},
   "outputs": [
    {
     "data": {
      "text/plain": [
       "Counter({'Nas': 24, 'Damian Marley': 35})"
      ]
     },
     "execution_count": 57,
     "metadata": {},
     "output_type": "execute_result"
    }
   ],
   "source": [
    "x, y = convert_to_verse_classification_duo_artist(x,y)\n",
    "Counter(y)"
   ]
  },
  {
   "cell_type": "code",
   "execution_count": 58,
   "metadata": {},
   "outputs": [
    {
     "name": "stdout",
     "output_type": "stream",
     "text": [
      "Total instances to preprocess: 59\n",
      "0 1 2 3 4 5 6 7 8 9 10 11 12 13 14 15 16 17 18 19 20 21 22 23 24 25 26 27 28 29 30 31 32 33 34 35 36 37 38 39 40 41 42 43 44 45 46 47 48 49 50 51 52 53 54 55 56 57 58 "
     ]
    }
   ],
   "source": [
    "x, length_repr, punctC_repr, shape_repr, vowel_repr, alliteration_repr, ner_repr, pos_repr, syllable_repr = preprocess_lyrics(x,y)"
   ]
  },
  {
   "cell_type": "markdown",
   "metadata": {},
   "source": [
    "Get statistical features"
   ]
  },
  {
   "cell_type": "code",
   "execution_count": 59,
   "metadata": {},
   "outputs": [],
   "source": [
    "word_count = get_word_count(x)\n",
    "sentence_count = get_sentence_count(x)\n",
    "avg_word_length = get_avg_word_length(x)\n",
    "exclam_mark_count = get_exclam_mark_count(x)\n",
    "comma_count = get_comma_count(x)\n",
    "comma_ratio = get_comma_ratio(x)\n",
    "unique_word_ratio = get_unique_word_ratio(x)\n",
    "question_mark_count = get_question_mark_count(x)\n",
    "repeated_sentence_count_ratio, repeated_sentence_ratio = get_repeated_sentence_ratios(x)"
   ]
  },
  {
   "cell_type": "markdown",
   "metadata": {},
   "source": [
    "Write the data"
   ]
  },
  {
   "cell_type": "code",
   "execution_count": 60,
   "metadata": {},
   "outputs": [],
   "source": [
    "with open(outpath+filename+settype, mode='w') as csv_file:\n",
    "        fieldnames = ['lyrics','artist','word_count','sentence_count','!_count','?_count',',_count',\n",
    "                      'avg_word_length', ',_ratio', 'uniq_word_ratio','rep_sent_count_ratio','rep_sent_ratio',\n",
    "                     'length_repr','punctC_repr','shape_repr','vowel_repr','alliteration_repr','ner_repr',\n",
    "                      'pos_repr','syllable_repr']\n",
    "        writer = csv.DictWriter(csv_file, fieldnames=fieldnames)\n",
    "        writer.writeheader()\n",
    "        for i in range(len(x)):\n",
    "        #for i in range(int(0.8*len(x))):\n",
    "            writer.writerow({'lyrics': x[i],\\\n",
    "                             'artist': y[i],\\\n",
    "                             'word_count':word_count[i],\\\n",
    "                             'sentence_count':sentence_count[i],\\\n",
    "                             '!_count':exclam_mark_count[i],\\\n",
    "                             '?_count':question_mark_count[i],\\\n",
    "                             ',_count':comma_count[i],\\\n",
    "                             'avg_word_length':avg_word_length[i],\\\n",
    "                             ',_ratio':comma_ratio[i],\\\n",
    "                            'uniq_word_ratio':unique_word_ratio[i],\\\n",
    "                             'rep_sent_count_ratio':repeated_sentence_count_ratio[i],\\\n",
    "                             'rep_sent_ratio':repeated_sentence_ratio[i],\\\n",
    "                            'length_repr':length_repr[i],\\\n",
    "                            'punctC_repr':punctC_repr[i],\\\n",
    "                            'shape_repr':shape_repr[i],\\\n",
    "                            'vowel_repr':vowel_repr[i],\\\n",
    "                           'alliteration_repr':alliteration_repr[i],\\\n",
    "                             'ner_repr':ner_repr[i],\n",
    "                            'pos_repr':pos_repr[i],\n",
    "                           'syllable_repr':syllable_repr[i]})"
   ]
  },
  {
   "cell_type": "code",
   "execution_count": null,
   "metadata": {},
   "outputs": [],
   "source": []
  }
 ],
 "metadata": {
  "kernelspec": {
   "display_name": "Python 3",
   "language": "python",
   "name": "python3"
  },
  "language_info": {
   "codemirror_mode": {
    "name": "ipython",
    "version": 3
   },
   "file_extension": ".py",
   "mimetype": "text/x-python",
   "name": "python",
   "nbconvert_exporter": "python",
   "pygments_lexer": "ipython3",
   "version": "3.7.4"
  }
 },
 "nbformat": 4,
 "nbformat_minor": 2
}
